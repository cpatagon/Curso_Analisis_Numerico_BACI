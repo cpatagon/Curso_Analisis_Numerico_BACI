{
 "cells": [
  {
   "cell_type": "markdown",
   "id": "ae75b12c",
   "metadata": {},
   "source": [
    "# Análisis de Datos Cuantitativo y Cualitativo\n",
    "\n",
    "El análisis de datos es un proceso completamente centrado en los datos, y, dependiendo de la naturaleza de estos, es posible hacer algunas distinciones.\n",
    "\n",
    "## Análisis Cuantitativo\n",
    "\n",
    "- **Naturaleza de los Datos**: Involucra datos con una estructura numérica o categórica, que poseen un orden lógico o que pueden categorizarse.\n",
    "- **Procesamiento**: Permite la formación de estructuras dentro de los datos, facilitando su procesamiento matemático.\n",
    "- **Predicciones**: Genera modelos que pueden proporcionar predicciones cuantitativas, permitiendo al analista de datos llegar a conclusiones más objetivas.\n",
    "- **Ejemplos**: Datos de encuestas numéricas, mediciones científicas.\n",
    "\n",
    "## Análisis Cualitativo\n",
    "\n",
    "- **Naturaleza de los Datos**: Trata con datos que generalmente no tienen una estructura evidente y cuya naturaleza no es numérica ni categórica.\n",
    "- **Tipos de Datos**: Puede incluir datos textuales escritos, visuales o de audio.\n",
    "- **Metodologías**: Requiere metodologías específicas, a menudo ad hoc, para extraer información que genere modelos capaces de proporcionar predicciones cualitativas.\n",
    "- **Interpretaciones**: Las conclusiones pueden incluir interpretaciones subjetivas, explorando sistemas complejos que no son posibles de abordar con un enfoque matemático estricto.\n",
    "- **Aplicaciones**: Se utiliza en el estudio de fenómenos sociales o estructuras complejas que no son fácilmente medibles.\n",
    "\n",
    "## Comparaciones Clave\n",
    "\n",
    "- **Objetividad vs. Subjetividad**: El análisis cuantitativo tiende a ser más objetivo, mientras que el cualitativo puede ser más subjetivo.\n",
    "- **Estructura de Datos**: Los datos cuantitativos son estructurados, mientras que los cualitativos son menos estructurados.\n",
    "- **Tipos de Sistemas Analizados**: El análisis cualitativo puede explorar sistemas más complejos que no se abordan fácilmente con métodos cuantitativos.\n",
    "\n",
    "Este enfoque permite a los analistas de datos elegir entre técnicas cuantitativas y cualitativas dependiendo del tipo de datos y del objetivo del análisis.\n",
    "\n"
   ]
  },
  {
   "cell_type": "markdown",
   "id": "ffd9e1a4",
   "metadata": {},
   "source": [
    "----\n",
    "## Análisis Cuantitativo\n",
    "\n",
    "En este ejemplo, realizaremos un análisis simple de datos numéricos usando la librería pandas para calcular estadísticas descriptivas.\n",
    "Ejemplo: Análisis de Datos Cuantitativos\n",
    "\n",
    "Supongamos que tienes un conjunto de datos sobre las calificaciones de los estudiantes en un examen:"
   ]
  },
  {
   "cell_type": "code",
   "execution_count": 1,
   "id": "bf1d84d0",
   "metadata": {},
   "outputs": [
    {
     "name": "stdout",
     "output_type": "stream",
     "text": [
      "Estadísticas descriptivas de las calificaciones:\n",
      "count     5.000000\n",
      "mean     86.600000\n",
      "std       5.458938\n",
      "min      78.000000\n",
      "25%      85.000000\n",
      "50%      88.000000\n",
      "75%      90.000000\n",
      "max      92.000000\n",
      "Name: Calificación, dtype: float64\n"
     ]
    }
   ],
   "source": [
    "import pandas as pd\n",
    "\n",
    "# Crear un DataFrame con datos cuantitativos\n",
    "data_cuantitativos = {\n",
    "    'Estudiante': ['Ana', 'Luis', 'María', 'Carlos', 'Elena'],\n",
    "    'Calificación': [85, 92, 78, 90, 88]\n",
    "}\n",
    "\n",
    "df_cuantitativos = pd.DataFrame(data_cuantitativos)\n",
    "\n",
    "# Calcular estadísticas descriptivas\n",
    "estadisticas = df_cuantitativos['Calificación'].describe()\n",
    "\n",
    "print(\"Estadísticas descriptivas de las calificaciones:\")\n",
    "print(estadisticas)\n"
   ]
  },
  {
   "cell_type": "markdown",
   "id": "c3eb4c76",
   "metadata": {},
   "source": [
    "-----------------------------\n",
    "## Análisis Cualitativo\n",
    "\n",
    "En este ejemplo, utilizaremos NLTK, una librería de procesamiento de lenguaje natural, para realizar un análisis básico de sentimiento en un conjunto de comentarios de clientes.\n",
    "\n",
    "**Ejemplo:** Análisis de Datos Cualitativos\n",
    "\n",
    "Supongamos que tienes una lista de comentarios de clientes sobre un producto:"
   ]
  },
  {
   "cell_type": "code",
   "execution_count": 9,
   "id": "16a72ac2",
   "metadata": {},
   "outputs": [
    {
     "name": "stdout",
     "output_type": "stream",
     "text": [
      "Retrieving notices: ...working... done\n",
      "Collecting package metadata (current_repodata.json): done\n",
      "Solving environment: done\n",
      "\n",
      "\n",
      "==> WARNING: A newer version of conda exists. <==\n",
      "  current version: 23.1.0\n",
      "  latest version: 24.7.1\n",
      "\n",
      "Please update conda by running\n",
      "\n",
      "    $ conda update -n base -c conda-forge conda\n",
      "\n",
      "Or to minimize the number of packages updated during conda update use\n",
      "\n",
      "     conda install conda=24.7.1\n",
      "\n",
      "\n",
      "\n",
      "## Package Plan ##\n",
      "\n",
      "  environment location: /home/lgomez/miniconda3\n",
      "\n",
      "  added / updated specs:\n",
      "    - nltk\n",
      "\n",
      "\n",
      "The following packages will be downloaded:\n",
      "\n",
      "    package                    |            build\n",
      "    ---------------------------|-----------------\n",
      "    certifi-2024.7.4           |     pyhd8ed1ab_0         156 KB  conda-forge\n",
      "    nltk-3.8.1                 |     pyhd8ed1ab_0         1.0 MB  conda-forge\n",
      "    ------------------------------------------------------------\n",
      "                                           Total:         1.2 MB\n",
      "\n",
      "The following NEW packages will be INSTALLED:\n",
      "\n",
      "  nltk               conda-forge/noarch::nltk-3.8.1-pyhd8ed1ab_0 \n",
      "\n",
      "The following packages will be UPDATED:\n",
      "\n",
      "  ca-certificates                       2024.6.2-hbcca054_0 --> 2024.7.4-hbcca054_0 \n",
      "  certifi                             2024.6.2-pyhd8ed1ab_0 --> 2024.7.4-pyhd8ed1ab_0 \n",
      "\n",
      "\n",
      "\n",
      "Downloading and Extracting Packages\n",
      "certifi-2024.7.4     | 156 KB    |                                       |   0% \n",
      "nltk-3.8.1           | 1.0 MB    |                                       |   0% \u001b[A\n",
      "certifi-2024.7.4     | 156 KB    | ###################                   |  51% \u001b[A\n",
      "certifi-2024.7.4     | 156 KB    | ##################################### | 100% \u001b[A\n",
      "nltk-3.8.1           | 1.0 MB    | ##################################### | 100% \u001b[A\n",
      "                                                                                \u001b[A\n",
      "                                                                                \u001b[A\n",
      "Preparing transaction: done\n",
      "Verifying transaction: done\n",
      "Executing transaction: done\n",
      "\n",
      "Note: you may need to restart the kernel to use updated packages.\n"
     ]
    }
   ],
   "source": [
    "conda install nltk"
   ]
  },
  {
   "cell_type": "code",
   "execution_count": 8,
   "id": "c4d20692",
   "metadata": {},
   "outputs": [
    {
     "name": "stdout",
     "output_type": "stream",
     "text": [
      "Comentario: El producto es excelente, me encanta!\n",
      "Sentimiento: {'neg': 0.0, 'neu': 1.0, 'pos': 0.0, 'compound': 0.0}\n",
      "\n",
      "Comentario: No estoy satisfecho con la calidad del producto.\n",
      "Sentimiento: {'neg': 0.239, 'neu': 0.761, 'pos': 0.0, 'compound': -0.296}\n",
      "\n",
      "Comentario: La entrega fue rápida y el servicio al cliente fue muy amable.\n",
      "Sentimiento: {'neg': 0.0, 'neu': 1.0, 'pos': 0.0, 'compound': 0.0}\n",
      "\n",
      "Comentario: La calidad es horrible, no lo recomiendo.\n",
      "Sentimiento: {'neg': 0.533, 'neu': 0.467, 'pos': 0.0, 'compound': -0.6908}\n",
      "\n",
      "Comentario: Es un buen producto por el precio que tiene.\n",
      "Sentimiento: {'neg': 0.0, 'neu': 1.0, 'pos': 0.0, 'compound': 0.0}\n",
      "\n"
     ]
    },
    {
     "name": "stderr",
     "output_type": "stream",
     "text": [
      "[nltk_data] Downloading package vader_lexicon to\n",
      "[nltk_data]     /home/lgomez/nltk_data...\n",
      "[nltk_data]   Package vader_lexicon is already up-to-date!\n"
     ]
    }
   ],
   "source": [
    "import nltk\n",
    "from nltk.sentiment import SentimentIntensityAnalyzer\n",
    "\n",
    "# Descargar el analizador de sentimientos de NLTK (si es necesario)\n",
    "nltk.download('vader_lexicon')\n",
    "\n",
    "# Comentarios de clientes\n",
    "comentarios = [\n",
    "    \"El producto es excelente, me encanta!\",\n",
    "    \"No estoy satisfecho con la calidad del producto.\",\n",
    "    \"La entrega fue rápida y el servicio al cliente fue muy amable.\",\n",
    "    \"La calidad es horrible, no lo recomiendo.\",\n",
    "    \"Es un buen producto por el precio que tiene.\"\n",
    "]\n",
    "\n",
    "# Crear el analizador de sentimientos\n",
    "sia = SentimentIntensityAnalyzer()\n",
    "\n",
    "# Analizar el sentimiento de cada comentario\n",
    "for comentario in comentarios:\n",
    "    sentimiento = sia.polarity_scores(comentario)\n",
    "    print(f\"Comentario: {comentario}\")\n",
    "    print(f\"Sentimiento: {sentimiento}\\n\")\n"
   ]
  },
  {
   "cell_type": "code",
   "execution_count": null,
   "id": "8637bf73",
   "metadata": {},
   "outputs": [],
   "source": []
  }
 ],
 "metadata": {
  "kernelspec": {
   "display_name": "Python 3 (ipykernel)",
   "language": "python",
   "name": "python3"
  },
  "language_info": {
   "codemirror_mode": {
    "name": "ipython",
    "version": 3
   },
   "file_extension": ".py",
   "mimetype": "text/x-python",
   "name": "python",
   "nbconvert_exporter": "python",
   "pygments_lexer": "ipython3",
   "version": "3.8.10"
  }
 },
 "nbformat": 4,
 "nbformat_minor": 5
}
