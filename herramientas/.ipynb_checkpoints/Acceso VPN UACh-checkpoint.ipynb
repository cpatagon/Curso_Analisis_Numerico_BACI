{
 "cells": [
  {
   "cell_type": "markdown",
   "id": "d7c11fa4",
   "metadata": {},
   "source": [
    "# Acceso remoto VPN\n",
    "\n",
    "## Descripción del Servicio VPN UACh:\n",
    "\n",
    "El Servicio VPN permite establecer un canal seguro de comunicaciones entre un computador personal conectado a una red de datos externa y los servicios de la Red Corporativa de la Universidad.\n",
    "\n",
    "Utilizando el Servicio VPN, Académicos, Estudiantes y Personal Administrativo de la UACh pueden conectarse desde su hogar, o cualquier sitio externo, a los servicios en línea cuyo acceso está restringido a computadores conectados directamente a la red corporativa.\n",
    "\n",
    "## Requisitos para conectarse al servicio VPN UACh\n",
    "\n",
    "- El usuario debe poseer credenciales de acceso a los sistemas corporativos como infoFuncionarios y Sistema Académico.\n",
    "- Estar conectado a Internet.\n",
    "- Si es requerido, tener instalado y configurado el software Cliente VPN en su equipo.\n",
    "\n",
    "## Seleccione la opción de su sistema\n",
    "\n",
    "| Sistema | Enlace |\n",
    "|---------|--------|\n",
    "| Microsoft Windows | [Manual de instalación de VPN UACh](https://www.uach.cl/uach/_file/manual-de-instalacion-de-vpn-uach-5ea8f1cd93ddf.pdf) |\n",
    "| Apple macOS | [Instructivo VPN para macOS](https://www.uach.cl/uach/_file/instructivo-vpn-para-mac-os-_rb-58077d97651c8.pdf) |\n",
    "| Apple iOS (Smartphones y Tabletas) | [Instructivo configuración VPN en iPhone](https://www.uach.cl/uach/_file/instructivo-configuracion-vpn-en-iphone_revla-57e96229a0707.pdf) |\n",
    "| Google Android (Smartphones y Tabletas) | [Configuración VPN UACh en sistema operativo Android](https://www.uach.cl/uach/_file/configuracion-vpn-uach-en-sistema-operativo-android-rb-57eebdbcd1a99.pdf) |\n",
    "| Linux Ubuntu | [Instalación VPN para Ubuntu](https://www.uach.cl/uach/_file/instalacion-vpn-para-ubuntu-5ea8f46b78953.pdf) |\n",
    "\n",
    "* Consulte las opciones para [usuarios avanzados en Windows 10](https://www.uach.cl/uach/_file/instructivo-vpn-para-windows-10_revla-57e98b5515a78.pdf).\n",
    "\n",
    "## Contacto\n",
    "\n",
    "Mesa de Ayuda  \n",
    "Fono: +56 63 222 1376  \n",
    "Email: mesadeayuda@uach.cl\n"
   ]
  },
  {
   "cell_type": "code",
   "execution_count": null,
   "id": "d711eeb5",
   "metadata": {},
   "outputs": [],
   "source": []
  }
 ],
 "metadata": {
  "kernelspec": {
   "display_name": "Python 3 (ipykernel)",
   "language": "python",
   "name": "python3"
  },
  "language_info": {
   "codemirror_mode": {
    "name": "ipython",
    "version": 3
   },
   "file_extension": ".py",
   "mimetype": "text/x-python",
   "name": "python",
   "nbconvert_exporter": "python",
   "pygments_lexer": "ipython3",
   "version": "3.8.10"
  }
 },
 "nbformat": 4,
 "nbformat_minor": 5
}
