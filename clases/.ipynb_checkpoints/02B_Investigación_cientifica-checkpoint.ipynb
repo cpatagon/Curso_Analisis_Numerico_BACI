{
 "cells": [
  {
   "cell_type": "markdown",
   "id": "5e6822f3",
   "metadata": {},
   "source": [
    "# Búsqueda de Investigación Científica\n",
    "\n",
    "## 1. Definición del problema de investigación\n",
    "- Identificar y formular claramente la pregunta de investigación\n",
    "- Establecer los objetivos del estudio\n",
    "- Determinar la relevancia y originalidad del tema\n",
    "\n",
    "## 2. Revisión de literatura existente\n",
    "- Identificar las fuentes primarias y secundarias relevantes\n",
    "- Analizar el estado actual del conocimiento sobre el tema\n",
    "- Identificar brechas en la investigación existente\n",
    "\n",
    "## 3. Selección de bases de datos y motores de búsqueda académicos\n",
    "- Familiarizarse con bases de datos específicas del campo de estudio\n",
    "- Utilizar motores de búsqueda académicos como Google Scholar, PubMed, Web of Science\n",
    "- Considerar repositorios institucionales y de acceso abierto\n",
    "\n",
    "## 4. Desarrollo de estrategias de búsqueda efectivas\n",
    "- Utilizar operadores booleanos (AND, OR, NOT)\n",
    "- Emplear búsqueda por frases y truncamiento\n",
    "- Usar vocabulario controlado y tesauros específicos del campo\n",
    "\n",
    "## 5. Evaluación crítica de las fuentes\n",
    "- Verificar la credibilidad y autoridad de los autores y publicaciones\n",
    "- Evaluar la metodología y validez de los estudios\n",
    "- Considerar la actualidad y relevancia de la información\n",
    "\n",
    "## 6. Organización y gestión de la información encontrada\n",
    "- Utilizar software de gestión de referencias (e.g., Zotero, Mendeley)\n",
    "- Crear un sistema de organización para notas y extractos\n",
    "- Mantener un registro de las estrategias de búsqueda utilizadas\n"
   ]
  },
  {
   "cell_type": "code",
   "execution_count": null,
   "id": "c8e3c319",
   "metadata": {},
   "outputs": [],
   "source": []
  }
 ],
 "metadata": {
  "kernelspec": {
   "display_name": "Python 3 (ipykernel)",
   "language": "python",
   "name": "python3"
  },
  "language_info": {
   "codemirror_mode": {
    "name": "ipython",
    "version": 3
   },
   "file_extension": ".py",
   "mimetype": "text/x-python",
   "name": "python",
   "nbconvert_exporter": "python",
   "pygments_lexer": "ipython3",
   "version": "3.8.10"
  }
 },
 "nbformat": 4,
 "nbformat_minor": 5
}
