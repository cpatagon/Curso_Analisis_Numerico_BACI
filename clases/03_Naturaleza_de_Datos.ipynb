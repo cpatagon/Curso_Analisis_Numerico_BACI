{
 "cells": [
  {
   "cell_type": "markdown",
   "id": "dcf7bb14",
   "metadata": {},
   "source": [
    "# Entendiendo la Naturaleza de los Datos\n",
    "\n",
    "El objeto de estudio del análisis de datos son, básicamente, los datos. Los datos son entonces los actores clave en todos los procesos del análisis de datos. Constituyen la materia prima que debe ser procesada, y gracias a su procesamiento y análisis es posible extraer una variedad de información para aumentar el nivel de conocimiento del sistema en estudio, es decir, aquel del que provienen los datos.\n",
    "\n",
    "## Cuando los Datos se Convierten en Información\n",
    "\n",
    "Los datos son los eventos registrados en el mundo. Cualquier cosa que pueda ser medida o incluso categorizada puede convertirse en datos. Una vez recolectados, estos datos pueden ser estudiados y analizados tanto para entender la naturaleza de los eventos como, muy a menudo, para hacer predicciones o al menos tomar decisiones informadas.\n",
    "\n",
    "## Cuando la Información se Convierte en Conocimiento\n",
    "\n",
    "Se puede hablar de conocimiento cuando la información se convierte en un conjunto de reglas que te ayudan a entender mejor ciertos mecanismos y, por lo tanto, a hacer predicciones sobre la evolución de algunos eventos.\n",
    "\n",
    "## Tipos de Datos\n",
    "\n",
    "Los datos pueden dividirse en dos categorías distintas:\n",
    "\n",
    "- **Categóricos**\n",
    "  - **Nominales**: Una variable nominal no tiene un orden intrínseco en su categoría.\n",
    "  - **Ordinales**: Una variable ordinal tiene un orden predeterminado.\n",
    "  \n",
    "- **Numéricos**\n",
    "  - **Discretos**: Valores que pueden contarse y que son distintos y separados entre sí.\n",
    "  - **Continuos**: Valores producidos por mediciones u observaciones que pueden asumir cualquier valor dentro de un rango definido.\n",
    "\n",
    "Los datos categóricos son valores u observaciones que pueden dividirse en grupos o categorías. Hay dos tipos de valores categóricos: nominales y ordinales.\n",
    "\n",
    "Los datos numéricos son valores u observaciones que provienen de mediciones. Hay dos tipos de valores numéricos diferentes: números discretos y continuos. Los valores discretos son valores que pueden contarse y que son distintos y separados entre sí. Los valores continuos, por otro lado, son valores producidos por mediciones u observaciones que asumen cualquier valor dentro de un rango definido.\n"
   ]
  },
  {
   "cell_type": "code",
   "execution_count": null,
   "id": "2e0f753b",
   "metadata": {},
   "outputs": [],
   "source": []
  }
 ],
 "metadata": {
  "kernelspec": {
   "display_name": "Python 3 (ipykernel)",
   "language": "python",
   "name": "python3"
  },
  "language_info": {
   "codemirror_mode": {
    "name": "ipython",
    "version": 3
   },
   "file_extension": ".py",
   "mimetype": "text/x-python",
   "name": "python",
   "nbconvert_exporter": "python",
   "pygments_lexer": "ipython3",
   "version": "3.8.10"
  }
 },
 "nbformat": 4,
 "nbformat_minor": 5
}
