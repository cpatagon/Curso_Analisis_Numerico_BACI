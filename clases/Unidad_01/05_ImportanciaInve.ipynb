{
 "cells": [
  {
   "cell_type": "markdown",
   "id": "75763363",
   "metadata": {},
   "source": [
    "# Todo dato es una construcción: Importancia en la investigación\n",
    "\n",
    "## Introducción\n",
    "\n",
    "En la investigación científica, es crucial entender que todo dato es una construcción. Esta comprensión nos permite evaluar críticamente la información que encontramos y utilizarla de manera apropiada en nuestros propios estudios.\n",
    "\n",
    "## La importancia de la construcción conceptual del dato\n",
    "\n",
    "### Caso de estudio: Accidentes viales en Argentina\n",
    "\n",
    "- **Problema**: Diferencias significativas en las estadísticas de muertes por accidentes viales.\n",
    "- **Causa**: Diferentes definiciones conceptuales utilizadas por distintas entidades.\n",
    "\n",
    "#### Comparación de datos (2016-2018):\n",
    "\n",
    "| Año  | Estado Argentino | Luchemos por la Vida |\n",
    "|------|------------------|-----------------------|\n",
    "| 2016 | 5582             | 7268                  |\n",
    "| 2017 | 5611             | 7213                  |\n",
    "| 2018 | 5527             | 7274                  |\n",
    "\n",
    "**Lección clave**: La definición conceptual puede llevar a diferencias sustanciales en los datos reportados.\n",
    "\n",
    "## Estrategias para una lectura crítica de publicaciones\n",
    "\n",
    "1. **Analizar la construcción de datos**:\n",
    "   - Entender cómo se definieron y recopilaron los datos.\n",
    "   - Evaluar la validez de los datos para su uso en nuestra investigación.\n",
    "\n",
    "2. **Explorar más allá del artículo principal**:\n",
    "   - Revisar la bibliografía del artículo.\n",
    "   - Identificar autores frecuentemente citados.\n",
    "   - Buscar trabajos con títulos relevantes para nuestra investigación.\n",
    "   - Considerar las fechas de publicación de las referencias.\n",
    "\n",
    "3. **Validar nuestra búsqueda**:\n",
    "   - Verificar si el autor recomendado aparece en nuestros resultados de búsqueda independiente.\n",
    "   - Buscar coincidencias con autores citados en el artículo original.\n",
    "\n",
    "4. **Evaluar la relevancia de los autores**:\n",
    "   - Considerar no solo la cantidad de publicaciones, sino también la frecuencia con la que son citados.\n",
    "   \n",
    "   ![autor](./img/autor.png)\n",
    "   \n",
    "   - Utilizar herramientas tecnológicas para rastrear citaciones.\n",
    "   \n",
    "   \n",
    "   ![ejemplo de relevancia y citas](./img/citas.png)\n",
    "   \n",
    "\n",
    "## Conclusión\n",
    "\n",
    "La comprensión de que todo dato es una construcción nos permite:\n",
    "1. Evaluar críticamente la información que encontramos.\n",
    "2. Entender las limitaciones y sesgos potenciales en los datos.\n",
    "3. Utilizar la información de manera más efectiva en nuestra propia investigación.\n",
    "\n",
    "Recordar siempre: La forma en que se define y construye un dato puede tener un impacto significativo en los resultados y conclusiones de una investigación.\n"
   ]
  },
  {
   "cell_type": "code",
   "execution_count": null,
   "id": "fd12982a",
   "metadata": {},
   "outputs": [],
   "source": []
  },
  {
   "cell_type": "code",
   "execution_count": null,
   "id": "5c763a03",
   "metadata": {},
   "outputs": [],
   "source": []
  }
 ],
 "metadata": {
  "kernelspec": {
   "display_name": "Python 3 (ipykernel)",
   "language": "python",
   "name": "python3"
  },
  "language_info": {
   "codemirror_mode": {
    "name": "ipython",
    "version": 3
   },
   "file_extension": ".py",
   "mimetype": "text/x-python",
   "name": "python",
   "nbconvert_exporter": "python",
   "pygments_lexer": "ipython3",
   "version": "3.8.10"
  }
 },
 "nbformat": 4,
 "nbformat_minor": 5
}
